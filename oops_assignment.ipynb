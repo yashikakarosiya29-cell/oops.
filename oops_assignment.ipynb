{
  "nbformat": 4,
  "nbformat_minor": 0,
  "metadata": {
    "colab": {
      "provenance": []
    },
    "kernelspec": {
      "name": "python3",
      "display_name": "Python 3"
    },
    "language_info": {
      "name": "python"
    }
  },
  "cells": [
    {
      "cell_type": "markdown",
      "source": [
        "## **Theory Questions:**"
      ],
      "metadata": {
        "id": "NjspJBxWHMb2"
      }
    },
    {
      "cell_type": "markdown",
      "source": [
        "1. What is Object-Oriented Programming?\n",
        "-  Object-Oriented Programming (OOP) is a programming method that organizes code into objects which combine data and functions. It helps in representing real-world entities like students, cars, or employees in the form of objects.\n",
        "\n",
        "Main Features of OOP:\n",
        "\n",
        "  1) Class: A blueprint or template for creating objects.\n",
        "\n",
        "2) Object: An instance of a class.\n",
        "\n",
        "3) encapsulation: Binding data and methods together and hiding internal details.\n",
        "\n",
        " 4) Inheritance: One class can inherit properties and methods from another class.\n",
        "\n",
        "  5) Polymorphism: The same function or method can work in different ways.\n",
        "\n",
        "  6) Abstraction: Hiding unnecessary details and showing only the important ones.\n",
        "\n"
      ],
      "metadata": {
        "id": "TUE0fix9HxSl"
      }
    },
    {
      "cell_type": "markdown",
      "source": [
        "2) What is a class in oops ?\n",
        "-  In OOP, a class is a blueprint for creating objects. It defines attributes (data) and methods (actions) that the objects will have. Objects are instances of the class, each with its own values but sharing the same structure and behavior."
      ],
      "metadata": {
        "id": "BI8l7ySiNbKM"
      }
    },
    {
      "cell_type": "markdown",
      "source": [
        "3) What is an object in oops?\n",
        "-  In OOP, an object is an individual instance of a class. It represents a real-world entity and contains attributes (data) and methods (functions) defined by its class. Each object has its own unique values for the attributes but shares the behavior of the class. For example, if Dog is a class, my_dog = Dog(\"Chiko\", 3) is an object of that class."
      ],
      "metadata": {
        "id": "zObM-0xYNG65"
      }
    },
    {
      "cell_type": "markdown",
      "source": [
        "4) What is the difference between abstraction and encapsulation ?\n",
        "-  The main difference between abstraction and encapsulation in OOP is their focus and purpose.\n",
        "\n",
        "   Abstraction means hiding the complex implementation details and showing only the necessary features to the user. It focuses on what an object does rather than how it does it.\n",
        "\n",
        "   **Encapsulation**, on the other hand, means wrapping data and methods that work on that data into a single unit (class) and restricting direct access to some of the object’s components using access modifiers. It focuses on protecting the data and maintaining data security.\n",
        "\n"
      ],
      "metadata": {
        "id": "VsqJ3inNLnMf"
      }
    },
    {
      "cell_type": "markdown",
      "source": [
        "5) What are dunder methods in Python?\n",
        "-  Dunder methods in Python (short for “double underscore” methods) are special built-in methods that start and end with double underscores, like __init__, __str__, or __len__. They are also called magic methods and are used to define how objects of a class behave in different situations."
      ],
      "metadata": {
        "id": "HxAVbhgm2p6j"
      }
    },
    {
      "cell_type": "markdown",
      "source": [
        "6) Explain the concept of inheritance in OOP ?\n",
        "-  In Object-Oriented Programming (OOP), inheritance is a concept that allows one class (called the child or subclass) to use the properties and methods of another class (called the parent or base class). It helps in reusing existing code and reducing duplication. The child class can also add new features or modify the inherited ones."
      ],
      "metadata": {
        "id": "Ih2r4gCB3FD4"
      }
    },
    {
      "cell_type": "markdown",
      "source": [
        "7) What is polymorphism in OOP ?\n",
        "-  In OOP, polymorphism is the ability of different objects to respond to the same method or operation in their own way. It allows objects of different classes to be treated through a common interface, while each class can have its own implementation of the method."
      ],
      "metadata": {
        "id": "UAaT17553beq"
      }
    },
    {
      "cell_type": "markdown",
      "source": [
        "8) How is encapsulation achieved in Python?\n",
        "-  In Python, encapsulation is achieved by restricting access to the internal data of a class and controlling it through methods. This is done using access modifiers:\n",
        "\n",
        "   1) Public (variable) – Can be accessed from anywhere.\n",
        "\n",
        "   2) Protected (_variable) – Conventionally indicates that it should not be accessed directly outside the class or its subclasses.\n",
        "\n",
        "   3) Private (__variable) – Cannot be accessed directly from outside the class; Python uses name mangling to protect it.\n",
        "\n"
      ],
      "metadata": {
        "id": "WJtbmiFh3wiQ"
      }
    },
    {
      "cell_type": "markdown",
      "source": [
        "9) What is a constructor in Python ?\n",
        "-  In Python, a constructor is a special method used to initialize a new object of a class. It is defined using the __init__() dunder method and is called automatically when an object is created. The constructor can take parameters to set the initial values of the object’s attributes."
      ],
      "metadata": {
        "id": "lz5ClZMR4Sro"
      }
    },
    {
      "cell_type": "markdown",
      "source": [
        "10) What are class and static methods in Python ?\n",
        "-  In Python, class methods and static methods are two types of methods that belong to a class rather than an instance, but they behave differently:\n",
        "\n",
        "  1)Class Method\n",
        "\n",
        "  . Defined using the @classmethod decorator.\n",
        "\n",
        "  . The first parameter is always cls, which refers to the class itself, not the object.\n",
        "\n",
        "  . Can access or modify class-level attributes but not instance-level attributes.\n",
        "\n",
        "  2) Static Method\n",
        "\n",
        "  . Defined using the @staticmethod decorator.\n",
        "\n",
        "  . Does not take self or cls as the first parameter.\n",
        "\n",
        "  . Cannot access class or instance attributes directly; works like a regular function but belongs to the class’s namespace.\n",
        "\n",
        "\n"
      ],
      "metadata": {
        "id": "P1AilnON4qUE"
      }
    },
    {
      "cell_type": "markdown",
      "source": [
        "11) What is method overloading in Python ?\n",
        "-  In Python, method overloading refers to the ability to define multiple methods with the same name but different parameters in a class. However, unlike some other languages, Python does not support true method overloading—if you define multiple methods with the same name, the latest definition overrides the previous ones."
      ],
      "metadata": {
        "id": "tp5ghjmZ55UQ"
      }
    },
    {
      "cell_type": "markdown",
      "source": [
        "12)  What is method overriding in OOP ?\n",
        "-   In OOP, method overriding occurs when a child class provides its own implementation of a method that is already defined in its parent class. This allows the child class to change or extend the behavior of the inherited method while keeping the same method name."
      ],
      "metadata": {
        "id": "vGPk0VGx6OYq"
      }
    },
    {
      "cell_type": "markdown",
      "source": [
        "13) What is a property decorator in Python ?\n",
        "-  In Python, a property decorator (@property) is used to turn a method into a read-only attribute. It allows you to access a method like an attribute, making the code cleaner and enabling controlled access to private variables. You can also use @setter with it to allow updating the value."
      ],
      "metadata": {
        "id": "p6VStUCF6lzw"
      }
    },
    {
      "cell_type": "markdown",
      "source": [
        "14) Why is polymorphism important in OOP?\n",
        "-  Polymorphism is important in OOP because it allows objects of different classes to be treated in a uniform way, even if they implement the same method differently. This makes code more flexible, reusable, and easier to maintain, as you can write functions or methods that work with multiple object types without knowing their specific class."
      ],
      "metadata": {
        "id": "Tkui7ISO66kG"
      }
    },
    {
      "cell_type": "markdown",
      "source": [
        "15) What is an abstract class in Python ?\n",
        "-   In Python, an abstract class is a class that cannot be instantiated on its own and is designed to be a base class for other classes. It can include abstract methods, which are declared but must be implemented by any subclass. Abstract classes are defined using the abc module and the @abstractmethod decorator."
      ],
      "metadata": {
        "id": "G6ud5kmG7Pdc"
      }
    },
    {
      "cell_type": "markdown",
      "source": [
        "16)  What are the advantages of OOP ?\n",
        "-  The advantages of Object-Oriented Programming (OOP) include:\n",
        "1)  Modularity\n",
        "2)  Reusability\n",
        "3)  Encapsulations\n",
        "4)  Inheritance\n",
        "5)  Polymorphism\n",
        "6)  Maintainability\n",
        "7)  Real world modeling"
      ],
      "metadata": {
        "id": "zxxOINAk7ov5"
      }
    },
    {
      "cell_type": "markdown",
      "source": [
        "17) What is the difference between a class variable and an instance variable?\n",
        "-  In Python, the difference between class variables and instance variables is based on scope and ownership:\n",
        "\n",
        "  1) Class Variable\n",
        "\n",
        "  . Defined inside a class but outside any method.\n",
        "\n",
        "  . Shared by all instances of the class.\n",
        "\n",
        "  . Changes to a class variable affect all objects of that class.\n",
        "\n",
        "  2)Instance Variable\n",
        "\n",
        "  . Defined inside a method, usually __init__(), using self.\n",
        "\n",
        "  . Belongs to a specific object.\n",
        "\n",
        "  . Each object has its own copy of the instance variable.\n",
        "\n"
      ],
      "metadata": {
        "id": "vylEfXDG8mgC"
      }
    },
    {
      "cell_type": "markdown",
      "source": [
        "18)  What is multiple inheritance in Python ?\n",
        "-   In Python, multiple inheritance is a feature where a class can inherit from more than one parent class. This allows the child class to access attributes and methods from all its parent classes, enabling code reuse and combining behaviors from different classes."
      ],
      "metadata": {
        "id": "U0edqF6m9SVK"
      }
    },
    {
      "cell_type": "markdown",
      "source": [
        "19) Explain the purpose of ‘’__str__’ and ‘__repr__’ ‘ methods in Python ?\n",
        "-  In Python, __str__ and __repr__ are dunder methods used to provide string representations of objects, but they serve slightly different purposes:\n",
        "\n",
        " 1)  __str__\n",
        "\n",
        "  . Provides a readable or user-friendly string representation of an object.\n",
        "\n",
        "  . Used by the print() function or str() to display the object.\n",
        "\n",
        " 2)  __repr__\n",
        "\n",
        "  . Provides an unambiguous and developer-friendly string representation, ideally one that could be used to recreate the object.\n",
        "\n",
        "  . Used by the repr() function and in the interactive interpreter.\n",
        "\n",
        "\n"
      ],
      "metadata": {
        "id": "mUs6ZWdn9oLU"
      }
    },
    {
      "cell_type": "markdown",
      "source": [
        "20) What is the significance of the ‘super()’ function in Python ?\n",
        "-   In Python, the super() function is used to call a method from a parent (or base) class in a child (or subclass). It is commonly used in inheritance to reuse or extend the behavior of the parent class without explicitly naming it, which makes code more maintainable and supports multiple inheritance.\n",
        "\n"
      ],
      "metadata": {
        "id": "yy65DfSq-fzb"
      }
    },
    {
      "cell_type": "markdown",
      "source": [
        "21) What is the significance of the __del__ method in Python?\n",
        "-   In Python, the __del__ method is a destructor that is called when an object is about to be destroyed or garbage collected. Its main purpose is to release resources or perform cleanup tasks before the object is removed from memory, such as closing files or network connections."
      ],
      "metadata": {
        "id": "6CsV3DI6-6pE"
      }
    },
    {
      "cell_type": "markdown",
      "source": [
        "22) What is the difference between @staticmethod and @classmethod in Python?\n",
        "-  In Python, both @staticmethod and @classmethod define methods that belong to a class rather than an instance, but they differ in how they access class and instance data:\n",
        "\n",
        "  1) @staticmethod\n",
        "\n",
        "  . Does not take self or cls as the first parameter.\n",
        "\n",
        "  . Cannot access instance variables or class variables directly.\n",
        "\n",
        "\n",
        "   . Acts like a regular function grouped inside the class for organizational purposes.\n",
        "\n",
        "  2) @classmethod\n",
        "\n",
        " . Takes cls as the first parameter, referring to the class itself.\n",
        "\n",
        " . Can access or modify class variables, but not instance variables directly.\n",
        "\n",
        "\n"
      ],
      "metadata": {
        "id": "90mAh1Hk_PBl"
      }
    },
    {
      "cell_type": "markdown",
      "source": [
        "23) How does polymorphism work in Python with inheritance ?\n",
        "-  In Python, polymorphism with inheritance allows a child class to provide its own implementation of a method defined in the parent class, while objects of different subclasses can be treated through a common interface. This means you can write code that works with the parent class type, but the actual method executed depends on the object’s subclass, enabling flexibility and code reuse."
      ],
      "metadata": {
        "id": "2BonrVn0A0Tg"
      }
    },
    {
      "cell_type": "markdown",
      "source": [
        "24)  What is method chaining in Python OOP?\n",
        "-   In Python OOP, method chaining is a technique where multiple methods are called sequentially on the same object in a single line. For method chaining to work, each method must return the object itself (self), allowing the next method to be called on it. This makes code more concise and readable."
      ],
      "metadata": {
        "id": "k5FjWs1PBKJq"
      }
    },
    {
      "cell_type": "markdown",
      "source": [
        "25) What is the purpose of the __call__ method in Python?\n",
        "-   In Python, the __call__ method allows an object of a class to be called like a function. By defining __call__ in a class, you can make instances behave as callable objects, enabling more flexible and intuitive code."
      ],
      "metadata": {
        "id": "8Z1-hTp2Bawu"
      }
    },
    {
      "cell_type": "markdown",
      "source": [
        "## **Practical Questions:**"
      ],
      "metadata": {
        "id": "GAYQFAp_BseS"
      }
    },
    {
      "cell_type": "markdown",
      "source": [
        "1. Create a parent class Animal with a method speak() that prints a generic message. Create a child class Dog that overrides the speak() method to print \"Bark!\"."
      ],
      "metadata": {
        "id": "HxeA4GAiB7wJ"
      }
    },
    {
      "cell_type": "code",
      "source": [
        "class Animal:\n",
        "    def speak(self):\n",
        "        print(\"Generic animal sound\")\n",
        "\n",
        "class Dog(Animal):\n",
        "    def speak(self):\n",
        "        print(\"Bark!\")\n",
        "        super().speak()\n",
        "\n",
        "dog = Dog()\n",
        "dog.speak()\n",
        "\n",
        "\n"
      ],
      "metadata": {
        "colab": {
          "base_uri": "https://localhost:8080/"
        },
        "id": "SIE8M-X11k2k",
        "outputId": "1e1f556e-110b-448a-8793-7235b45984e9"
      },
      "execution_count": null,
      "outputs": [
        {
          "output_type": "stream",
          "name": "stdout",
          "text": [
            "Bark!\n",
            "Generic animal sound\n"
          ]
        }
      ]
    },
    {
      "cell_type": "markdown",
      "source": [
        "2. Write a program to create an abstract class Shape with a method area(). Derive classes Circle and Rectangle from it and implement the area() method in both."
      ],
      "metadata": {
        "id": "DRhBR9Oe2zM0"
      }
    },
    {
      "cell_type": "code",
      "source": [
        "from abc import ABC, abstractmethod\n",
        "\n",
        "class shape(ABC):\n",
        "    @abstractmethod\n",
        "    def area(self):\n",
        "        pass\n",
        "#derived class for Circle\n",
        "class Circle(shape):\n",
        "    def __init__(self,radius):\n",
        "        self.radius=radius\n",
        "    def area(self):\n",
        "        return 3.14*self.radius*self.radius\n",
        "#derived class for rectangle\n",
        "class Rectangle(shape):\n",
        "    def __init__(self,length,width):\n",
        "        self.length=length\n",
        "        self.width=width\n",
        "    def area(self):\n",
        "        return self.length*self.width\n",
        "\n",
        "    #example usage\n",
        "    circle=Circle(5)\n",
        "    print(\"Area of circle:\",circle.area())\n",
        "\n",
        "    rectangle=Rectangle(4,6)\n",
        "    print(\"Area of rectangle:\",rectangle.area())"
      ],
      "metadata": {
        "colab": {
          "base_uri": "https://localhost:8080/"
        },
        "id": "Kvxokz1K5Q8q",
        "outputId": "4c9a1595-b9d0-46b9-ad78-caeb280dc5f2"
      },
      "execution_count": null,
      "outputs": [
        {
          "output_type": "stream",
          "name": "stdout",
          "text": [
            "Area of circle: 78.5\n",
            "Area of rectangle: 24\n"
          ]
        }
      ]
    },
    {
      "cell_type": "markdown",
      "source": [
        "3. Implement a multi-level inheritance scenario where a class Vehicle has an attribute type. Derive a class Car and further derive a class ElectricCar that adds a battery attribute."
      ],
      "metadata": {
        "id": "TkQuhCD39emY"
      }
    },
    {
      "cell_type": "code",
      "source": [
        "class vehicle:\n",
        "    def __init__(self,type):\n",
        "        self.type=type\n",
        "    def show_type(self):\n",
        "        print(\"Vehicle type:\",self.type)\n",
        "\n",
        "class car(vehicle):\n",
        "    def __init__(self,type,color):\n",
        "        super().__init__(type)\n",
        "        self.color=color\n",
        "    def show_color(self):\n",
        "        print(\"Car color:\",self.color)\n",
        "\n",
        "class ElectricCar(car):\n",
        "    def __init__(self,type,color,battery_capacity):\n",
        "        super().__init__(type,color)\n",
        "        self.battery_capacity=battery_capacity\n",
        "    def show_details(self):\n",
        "       print(\"Electric car details:\")\n",
        "       print(\"Type:\",self.type)\n",
        "       print(\"Color:\",self.color)\n",
        "       print(\"Battery capacity:\",self.battery_capacity)\n",
        "\n",
        "e_car = ElectricCar(\"Electric\", \"Red\", \"100 kWh\")\n",
        "e_car.show_details()"
      ],
      "metadata": {
        "colab": {
          "base_uri": "https://localhost:8080/"
        },
        "id": "xpYpFmmw-g-T",
        "outputId": "449cc5df-82df-4a68-a3e8-e934e5931aa9"
      },
      "execution_count": null,
      "outputs": [
        {
          "output_type": "stream",
          "name": "stdout",
          "text": [
            "Electric car details:\n",
            "Type: Electric\n",
            "Color: Red\n",
            "Battery capacity: 100 kWh\n"
          ]
        }
      ]
    },
    {
      "cell_type": "markdown",
      "source": [
        "4. Demonstrate polymorphism by creating a base class Bird with a method fly(). Create two derived classes Sparrow and Penguin that override the fly() method."
      ],
      "metadata": {
        "id": "7VrE8G1EOdRC"
      }
    },
    {
      "cell_type": "code",
      "source": [
        "class Bird:\n",
        "    def fly(self):\n",
        "        print(\"Birds can fly\")\n",
        "\n",
        "class Sparrow(Bird):\n",
        "    def fly(self):\n",
        "        print(\"Sparrows can fly at high speeds\")\n",
        "class Penguin(Bird):\n",
        "    def fly(self):\n",
        "        print(\"Penguins cannot fly\")\n",
        "\n",
        "#example usage\n",
        "bird=Bird()\n",
        "bird.fly()\n",
        "\n",
        "sparrow=Sparrow()\n",
        "sparrow.fly()\n",
        "\n",
        "penguin=Penguin()\n",
        "penguin.fly()\n",
        "\n",
        "\n",
        "\n"
      ],
      "metadata": {
        "colab": {
          "base_uri": "https://localhost:8080/"
        },
        "id": "cF9GaiTAPMpP",
        "outputId": "5403ff84-aa06-4001-f2ea-53e732169f34"
      },
      "execution_count": 14,
      "outputs": [
        {
          "output_type": "stream",
          "name": "stdout",
          "text": [
            "Birds can fly\n",
            "Sparrows can fly at high speeds\n",
            "Penguins cannot fly\n"
          ]
        }
      ]
    },
    {
      "cell_type": "markdown",
      "source": [
        "5. Write a program to demonstrate encapsulation by creating a class BankAccount with private attributes balance and methods to deposit, withdraw, and check balance."
      ],
      "metadata": {
        "id": "-uo5OoyCQ30X"
      }
    },
    {
      "cell_type": "code",
      "source": [
        "class BankAccount:\n",
        "    def __init__(self, initial_balance=0):\n",
        "        self.__balance = initial_balance   # Private attribute\n",
        "\n",
        "    # Method to deposit money\n",
        "    def deposit(self, amount):\n",
        "        if amount > 0:\n",
        "            self.__balance += amount\n",
        "            print(f\"Deposited: ₹{amount}\")\n",
        "        else:\n",
        "            print(\"Deposit amount must be positive.\")\n",
        "\n",
        "    # Method to withdraw money\n",
        "    def withdraw(self, amount):\n",
        "        if 0 < amount <= self.__balance:\n",
        "            self.__balance -= amount\n",
        "            print(f\"Withdrew: ₹{amount}\")\n",
        "        else:\n",
        "            print(\"Insufficient balance or invalid amount.\")\n",
        "\n",
        "    # Method to check balance\n",
        "    def check_balance(self):\n",
        "        print(f\"Current Balance: ₹{self.__balance}\")\n",
        "\n",
        "\n",
        "# Demonstration\n",
        "account = BankAccount(1000)\n",
        "account.deposit(500)\n",
        "account.withdraw(300)\n",
        "account.check_balance()\n"
      ],
      "metadata": {
        "colab": {
          "base_uri": "https://localhost:8080/"
        },
        "id": "H4IojqtjSmE4",
        "outputId": "880ea6a0-95b4-41aa-8606-8b0b2669579f"
      },
      "execution_count": 15,
      "outputs": [
        {
          "output_type": "stream",
          "name": "stdout",
          "text": [
            "Deposited: ₹500\n",
            "Withdrew: ₹300\n",
            "Current Balance: ₹1200\n"
          ]
        }
      ]
    },
    {
      "cell_type": "markdown",
      "source": [
        "6. Demonstrate runtime polymorphism using a method play() in a base class Instrument. Derive classes Guitar and Piano that implement their own version of play()."
      ],
      "metadata": {
        "id": "za63Mu87SxCd"
      }
    },
    {
      "cell_type": "code",
      "source": [
        "# Base class\n",
        "class Instrument:\n",
        "    def play(self):\n",
        "        print(\"Playing some instrument.\")\n",
        "\n",
        "# Derived class 1\n",
        "class Guitar(Instrument):\n",
        "    def play(self):\n",
        "        print(\"Strumming the guitar strings.\")\n",
        "\n",
        "# Derived class 2\n",
        "class Piano(Instrument):\n",
        "    def play(self):\n",
        "        print(\"Playing the piano keys.\")\n",
        "\n",
        "# Runtime polymorphism demonstration\n",
        "def perform(instrument):\n",
        "    instrument.play()  # The method called depends on the object type at runtime\n",
        "\n",
        "# Create objects\n",
        "guitar = Guitar()\n",
        "piano = Piano()\n",
        "\n",
        "# Call the same function with different objects\n",
        "perform(guitar)  # Calls Guitar's play()\n",
        "perform(piano)   # Calls Piano's play()\n"
      ],
      "metadata": {
        "colab": {
          "base_uri": "https://localhost:8080/"
        },
        "id": "vKZ5FOr5RRe8",
        "outputId": "a5b19299-dc0d-4fac-a372-248c6c74d39b"
      },
      "execution_count": 16,
      "outputs": [
        {
          "output_type": "stream",
          "name": "stdout",
          "text": [
            "Strumming the guitar strings.\n",
            "Playing the piano keys.\n"
          ]
        }
      ]
    },
    {
      "cell_type": "markdown",
      "source": [
        "7. Create a class MathOperations with a class method add_numbers() to add two numbers and a static method subtract_numbers() to subtract two numbers."
      ],
      "metadata": {
        "id": "wxIxjoR4Tc1M"
      }
    },
    {
      "cell_type": "code",
      "source": [
        "class MathOperations:\n",
        "    # Class method to add two numbers\n",
        "    @classmethod\n",
        "    def add_numbers(cls, a, b):\n",
        "        return a + b\n",
        "\n",
        "    # Static method to subtract two numbers\n",
        "    @staticmethod\n",
        "    def subtract_numbers(a, b):\n",
        "        return a - b\n",
        "\n",
        "\n",
        "# Demonstration\n",
        "# Using class method\n",
        "sum_result = MathOperations.add_numbers(10, 5)\n",
        "print(f\"Sum: {sum_result}\")\n",
        "\n",
        "# Using static method\n",
        "sub_result = MathOperations.subtract_numbers(10, 5)\n",
        "print(f\"Difference: {sub_result}\")\n"
      ],
      "metadata": {
        "colab": {
          "base_uri": "https://localhost:8080/"
        },
        "id": "csspXNGcT2Lf",
        "outputId": "bb5c9cb4-51db-441c-f55a-c61a46b55154"
      },
      "execution_count": 17,
      "outputs": [
        {
          "output_type": "stream",
          "name": "stdout",
          "text": [
            "Sum: 15\n",
            "Difference: 5\n"
          ]
        }
      ]
    },
    {
      "cell_type": "markdown",
      "source": [
        "8. Implement a class Person with a class method to count the total number of persons created."
      ],
      "metadata": {
        "id": "EfIkXFxYQ3wA"
      }
    },
    {
      "cell_type": "code",
      "source": [
        "class Person:\n",
        "    # Class variable to keep track of total persons\n",
        "    total_persons = 0\n",
        "\n",
        "    def __init__(self, name):\n",
        "        self.name = name\n",
        "        Person.total_persons += 1  # Increment count whenever a new person is created\n",
        "\n",
        "    # Class method to get total number of persons\n",
        "    @classmethod\n",
        "    def get_total_persons(cls):\n",
        "        return cls.total_persons\n",
        "\n",
        "\n",
        "# Demonstration\n",
        "p1 = Person(\"Alice\")\n",
        "p2 = Person(\"Bob\")\n",
        "p3 = Person(\"Charlie\")\n",
        "\n",
        "print(f\"Total persons created: {Person.get_total_persons()}\")\n"
      ],
      "metadata": {
        "colab": {
          "base_uri": "https://localhost:8080/"
        },
        "id": "owwmhFG0UBv3",
        "outputId": "0acc38f4-ea6f-4aa4-9b7d-9017bc7e52e0"
      },
      "execution_count": 18,
      "outputs": [
        {
          "output_type": "stream",
          "name": "stdout",
          "text": [
            "Total persons created: 3\n"
          ]
        }
      ]
    },
    {
      "cell_type": "markdown",
      "source": [
        "9. Write a class Fraction with attributes numerator and denominator. Override the str method to display the fraction as \"numerator/denominator\"."
      ],
      "metadata": {
        "id": "cFlkMdwCUMeE"
      }
    },
    {
      "cell_type": "code",
      "source": [
        "class Fraction:\n",
        "    def __init__(self, numerator, denominator):\n",
        "        self.numerator = numerator\n",
        "        self.denominator = denominator\n",
        "\n",
        "    # Override __str__ method\n",
        "    def __str__(self):\n",
        "        return f\"{self.numerator}/{self.denominator}\"\n",
        "\n",
        "\n",
        "# Demonstration\n",
        "f1 = Fraction(3, 4)\n",
        "f2 = Fraction(7, 2)\n",
        "\n",
        "print(f1)  # Output: 3/4\n",
        "print(f2)  # Output: 7/2\n"
      ],
      "metadata": {
        "colab": {
          "base_uri": "https://localhost:8080/"
        },
        "id": "e9zPRqtTUjdg",
        "outputId": "a64f20d8-d2ea-43c2-a17b-6e0d517c007e"
      },
      "execution_count": 19,
      "outputs": [
        {
          "output_type": "stream",
          "name": "stdout",
          "text": [
            "3/4\n",
            "7/2\n"
          ]
        }
      ]
    },
    {
      "cell_type": "markdown",
      "source": [
        "10. Demonstrate operator overloading by creating a class Vector and overriding the add method to add two vectors."
      ],
      "metadata": {
        "id": "N_rZFtGjQ3tJ"
      }
    },
    {
      "cell_type": "code",
      "source": [
        "class Vector:\n",
        "    def __init__(self, x, y):\n",
        "        self.x = x\n",
        "        self.y = y\n",
        "\n",
        "    # Overload the + operator\n",
        "    def __add__(self, other):\n",
        "        return Vector(self.x + other.x, self.y + other.y)\n",
        "\n",
        "    # Override __str__ for readable output\n",
        "    def __str__(self):\n",
        "        return f\"({self.x}, {self.y})\"\n",
        "\n",
        "\n",
        "# Demonstration\n",
        "v1 = Vector(2, 3)\n",
        "v2 = Vector(4, 5)\n",
        "\n",
        "v3 = v1 + v2  # Calls the overloaded __add__ method\n",
        "\n",
        "print(f\"v1 + v2 = {v3}\")\n"
      ],
      "metadata": {
        "colab": {
          "base_uri": "https://localhost:8080/"
        },
        "id": "Tjdc7Q9jUzzR",
        "outputId": "1df27c09-f0f3-4039-a340-6aa49ffaee78"
      },
      "execution_count": 20,
      "outputs": [
        {
          "output_type": "stream",
          "name": "stdout",
          "text": [
            "v1 + v2 = (6, 8)\n"
          ]
        }
      ]
    },
    {
      "cell_type": "markdown",
      "source": [
        "11. Create a class Person with attributes name and age. Add a method greet() that prints \"Hello, my name is {name} and I am {age} years old.\""
      ],
      "metadata": {
        "id": "sC6eT8xwU-n2"
      }
    },
    {
      "cell_type": "code",
      "source": [
        "class Person:\n",
        "    def __init__(self, name, age):\n",
        "        self.name = name\n",
        "        self.age = age\n",
        "\n",
        "    # Method to greet\n",
        "    def greet(self):\n",
        "        print(f\"Hello, my name is {self.name} and I am {self.age} years old.\")\n",
        "\n",
        "\n",
        "# Demonstration\n",
        "p1 = Person(\"yashika\", 25)\n",
        "p2 = Person(\"vinay\", 30)\n",
        "\n",
        "p1.greet()  # Output: Hello, my name is yashika and I am 25 years old.\n",
        "p2.greet()  # Output: Hello, my name is vinay and I am 30 years old.\n"
      ],
      "metadata": {
        "colab": {
          "base_uri": "https://localhost:8080/"
        },
        "id": "QQOh3lYTVYTE",
        "outputId": "05b87846-5181-481e-ddf0-55519ef42dd8"
      },
      "execution_count": 21,
      "outputs": [
        {
          "output_type": "stream",
          "name": "stdout",
          "text": [
            "Hello, my name is yashika and I am 25 years old.\n",
            "Hello, my name is vinay and I am 30 years old.\n"
          ]
        }
      ]
    },
    {
      "cell_type": "markdown",
      "source": [
        "12. Implement a class Student with attributes name and grades. Create a method average_grade() to compute the average of the grades."
      ],
      "metadata": {
        "id": "G1MSvxtCVyhW"
      }
    },
    {
      "cell_type": "code",
      "source": [
        "class Student:\n",
        "    def __init__(self, name, grades):\n",
        "        self.name = name\n",
        "        self.grades = grades  # grades should be a list of numbers\n",
        "\n",
        "    # Method to calculate average grade\n",
        "    def average_grade(self):\n",
        "        if not self.grades:\n",
        "            return 0  # Avoid division by zero\n",
        "        return sum(self.grades) / len(self.grades)\n",
        "\n",
        "\n",
        "# Demonstration\n",
        "s1 = Student(\"Yashika\", [85, 90, 78, 92])\n",
        "s2 = Student(\"Vinay\", [70, 75, 80])\n",
        "\n",
        "print(f\"{s1.name}'s average grade: {s1.average_grade():.2f}\")\n",
        "print(f\"{s2.name}'s average grade: {s2.average_grade():.2f}\")\n"
      ],
      "metadata": {
        "colab": {
          "base_uri": "https://localhost:8080/"
        },
        "id": "LoA2MY6JWMS5",
        "outputId": "bdf0fecd-26cc-4a96-a6b4-09f8a561a936"
      },
      "execution_count": 23,
      "outputs": [
        {
          "output_type": "stream",
          "name": "stdout",
          "text": [
            "Yashika's average grade: 86.25\n",
            "Vinay's average grade: 75.00\n"
          ]
        }
      ]
    },
    {
      "cell_type": "markdown",
      "source": [
        "13. Create a class Rectangle with methods set_dimensions() to set the dimensions and area() to calculate the area."
      ],
      "metadata": {
        "id": "XzLHSUG0WhyX"
      }
    },
    {
      "cell_type": "code",
      "source": [
        "class Rectangle:\n",
        "    def __init__(self):\n",
        "        self.length = 0\n",
        "        self.width = 0\n",
        "\n",
        "    # Method to set dimensions\n",
        "    def set_dimensions(self, length, width):\n",
        "        self.length = length\n",
        "        self.width = width\n",
        "\n",
        "    # Method to calculate area\n",
        "    def area(self):\n",
        "        return self.length * self.width\n",
        "\n",
        "\n",
        "# Demonstration\n",
        "rect = Rectangle()\n",
        "rect.set_dimensions(5, 3)\n",
        "print(f\"Area of the rectangle: {rect.area()}\")\n"
      ],
      "metadata": {
        "colab": {
          "base_uri": "https://localhost:8080/"
        },
        "id": "HoiD-oeJWpYz",
        "outputId": "3c08f5d7-d08e-4ba1-900d-feb505cbed06"
      },
      "execution_count": 24,
      "outputs": [
        {
          "output_type": "stream",
          "name": "stdout",
          "text": [
            "Area of the rectangle: 15\n"
          ]
        }
      ]
    },
    {
      "cell_type": "markdown",
      "source": [
        "14. Create a class Employee with a method calculate_salary() that computes the salary based on hours worked and hourly rate. Create a derived class Manager that adds a bonus to the salary."
      ],
      "metadata": {
        "id": "LMVzmJIFWz1-"
      }
    },
    {
      "cell_type": "code",
      "source": [
        "# Base class\n",
        "class Employee:\n",
        "    def __init__(self, name, hours_worked, hourly_rate):\n",
        "        self.name = name\n",
        "        self.hours_worked = hours_worked\n",
        "        self.hourly_rate = hourly_rate\n",
        "\n",
        "    # Method to calculate salary\n",
        "    def calculate_salary(self):\n",
        "        return self.hours_worked * self.hourly_rate\n",
        "\n",
        "# Derived class\n",
        "class Manager(Employee):\n",
        "    def __init__(self, name, hours_worked, hourly_rate, bonus):\n",
        "        super().__init__(name, hours_worked, hourly_rate)\n",
        "        self.bonus = bonus\n",
        "\n",
        "    # Override calculate_salary to include bonus\n",
        "    def calculate_salary(self):\n",
        "        base_salary = super().calculate_salary()\n",
        "        return base_salary + self.bonus\n",
        "\n",
        "\n",
        "# Demonstration\n",
        "e1 = Employee(\"Alice\", 40, 200)   # 40 hours, 200 per hour\n",
        "m1 = Manager(\"Bob\", 40, 250, 5000)  # 40 hours, 250 per hour, 5000 bonus\n",
        "\n",
        "print(f\"{e1.name}'s Salary: ₹{e1.calculate_salary()}\")\n",
        "print(f\"{m1.name}'s Salary: ₹{m1.calculate_salary()}\")\n"
      ],
      "metadata": {
        "colab": {
          "base_uri": "https://localhost:8080/"
        },
        "id": "SWSiftndXHy9",
        "outputId": "6c16837b-983e-4e6d-b4a8-887d6c987d51"
      },
      "execution_count": 25,
      "outputs": [
        {
          "output_type": "stream",
          "name": "stdout",
          "text": [
            "Alice's Salary: ₹8000\n",
            "Bob's Salary: ₹15000\n"
          ]
        }
      ]
    },
    {
      "cell_type": "markdown",
      "source": [
        "15. Create a class Product with attributes name, price, and quantity. Implement a method total_price() that calculates the total price of the product."
      ],
      "metadata": {
        "id": "dB1GDRfWXOh9"
      }
    },
    {
      "cell_type": "code",
      "source": [
        "class Product:\n",
        "    def __init__(self, name, price, quantity):\n",
        "        self.name = name\n",
        "        self.price = price\n",
        "        self.quantity = quantity\n",
        "\n",
        "    # Method to calculate total price\n",
        "    def total_price(self):\n",
        "        return self.price * self.quantity\n",
        "\n",
        "\n",
        "# Demonstration\n",
        "p1 = Product(\"Laptop\", 50000, 2)\n",
        "p2 = Product(\"Phone\", 15000, 3)\n",
        "\n",
        "print(f\"Total price of {p1.name}: ₹{p1.total_price()}\")\n",
        "print(f\"Total price of {p2.name}: ₹{p2.total_price()}\")\n"
      ],
      "metadata": {
        "colab": {
          "base_uri": "https://localhost:8080/"
        },
        "id": "um1s0TZLXog2",
        "outputId": "6f9a566a-66b8-4290-fd3c-9611f873dee3"
      },
      "execution_count": 26,
      "outputs": [
        {
          "output_type": "stream",
          "name": "stdout",
          "text": [
            "Total price of Laptop: ₹100000\n",
            "Total price of Phone: ₹45000\n"
          ]
        }
      ]
    },
    {
      "cell_type": "markdown",
      "source": [
        "16. Create a class Animal with an abstract method sound(). Create two derived classes Cow and Sheep that implement the sound() method."
      ],
      "metadata": {
        "id": "OJJmObDjXtLz"
      }
    },
    {
      "cell_type": "code",
      "source": [
        "from abc import ABC, abstractmethod\n",
        "\n",
        "# Abstract base class\n",
        "class Animal(ABC):\n",
        "    @abstractmethod\n",
        "    def sound(self):\n",
        "        pass  # Abstract method, must be implemented by subclasses\n",
        "\n",
        "# Derived class 1\n",
        "class Cow(Animal):\n",
        "    def sound(self):\n",
        "        print(\"Cow says: Moo\")\n",
        "\n",
        "# Derived class 2\n",
        "class Sheep(Animal):\n",
        "    def sound(self):\n",
        "        print(\"Sheep says: Baa\")\n",
        "\n",
        "\n",
        "# Demonstration\n",
        "animals = [Cow(), Sheep()]\n",
        "\n",
        "for animal in animals:\n",
        "    animal.sound()\n"
      ],
      "metadata": {
        "colab": {
          "base_uri": "https://localhost:8080/"
        },
        "id": "V-UacQFPYAgG",
        "outputId": "9f968c65-7102-4b14-9b5f-053098d1f349"
      },
      "execution_count": 27,
      "outputs": [
        {
          "output_type": "stream",
          "name": "stdout",
          "text": [
            "Cow says: Moo\n",
            "Sheep says: Baa\n"
          ]
        }
      ]
    },
    {
      "cell_type": "markdown",
      "source": [
        "17. Create a class Book with attributes title, author, and year_published. Add a method get_book_info() that returns a formatted string with the book's details."
      ],
      "metadata": {
        "id": "PObvmOqPYGNS"
      }
    },
    {
      "cell_type": "code",
      "source": [
        "class Book:\n",
        "    def __init__(self, title, author, year_published):\n",
        "        self.title = title\n",
        "        self.author = author\n",
        "        self.year_published = year_published\n",
        "\n",
        "    # Method to return book details\n",
        "    def get_book_info(self):\n",
        "        return f\"'{self.title}' by {self.author}, published in {self.year_published}\"\n",
        "\n",
        "\n",
        "# Demonstration\n",
        "b1 = Book(\"1984\", \"George Orwell\", 1949)\n",
        "b2 = Book(\"To Kill a Mockingbird\", \"Harper Lee\", 1960)\n",
        "\n",
        "print(b1.get_book_info())\n",
        "print(b2.get_book_info())\n"
      ],
      "metadata": {
        "colab": {
          "base_uri": "https://localhost:8080/"
        },
        "id": "QMSX9KXQYjXx",
        "outputId": "df1eccd3-4c65-45a7-b808-61d5a7e09e2b"
      },
      "execution_count": 28,
      "outputs": [
        {
          "output_type": "stream",
          "name": "stdout",
          "text": [
            "'1984' by George Orwell, published in 1949\n",
            "'To Kill a Mockingbird' by Harper Lee, published in 1960\n"
          ]
        }
      ]
    },
    {
      "cell_type": "markdown",
      "source": [
        "18. Create a class House with attributes address and price. Create a derived class Mansion that adds an attribute number_of_rooms."
      ],
      "metadata": {
        "id": "MnAiEUQlYnRl"
      }
    },
    {
      "cell_type": "code",
      "source": [
        "# Base class\n",
        "class House:\n",
        "    def __init__(self, address, price):\n",
        "        self.address = address\n",
        "        self.price = price\n",
        "\n",
        "    def show_info(self):\n",
        "        print(f\"Address: {self.address}, Price: ₹{self.price}\")\n",
        "\n",
        "\n",
        "# Derived class\n",
        "class Mansion(House):\n",
        "    def __init__(self, address, price, number_of_rooms):\n",
        "        super().__init__(address, price)\n",
        "        self.number_of_rooms = number_of_rooms\n",
        "\n",
        "    def show_info(self):\n",
        "        print(f\"Address: {self.address}, Price: ₹{self.price}, Rooms: {self.number_of_rooms}\")\n",
        "\n",
        "\n",
        "# Demonstration\n",
        "h1 = House(\"123 Main Street\", 5000000)\n",
        "m1 = Mansion(\"456 Elite Avenue\", 20000000, 10)\n",
        "\n",
        "h1.show_info()  # Output: Address: 123 Main Street, Price: ₹5000000\n",
        "m1.show_info()  # Output: Address: 456 Elite Avenue, Price: ₹20000000, Rooms: 10\n"
      ],
      "metadata": {
        "colab": {
          "base_uri": "https://localhost:8080/"
        },
        "id": "qfJvEWfPYxcU",
        "outputId": "348e77b8-53a4-4cab-e9ac-c405cd00ac0f"
      },
      "execution_count": 29,
      "outputs": [
        {
          "output_type": "stream",
          "name": "stdout",
          "text": [
            "Address: 123 Main Street, Price: ₹5000000\n",
            "Address: 456 Elite Avenue, Price: ₹20000000, Rooms: 10\n"
          ]
        }
      ]
    }
  ]
}